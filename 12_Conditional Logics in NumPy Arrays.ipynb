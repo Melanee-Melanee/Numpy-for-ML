{
 "cells": [
  {
   "cell_type": "markdown",
   "metadata": {},
   "source": [
    "# Conditional Logics in NumPy Arrays"
   ]
  },
  {
   "cell_type": "code",
   "execution_count": 1,
   "metadata": {},
   "outputs": [],
   "source": [
    "import numpy as np"
   ]
  },
  {
   "cell_type": "code",
   "execution_count": 2,
   "metadata": {},
   "outputs": [
    {
     "data": {
      "text/plain": [
       "array([0, 1, 2, 3, 4])"
      ]
     },
     "execution_count": 2,
     "metadata": {},
     "output_type": "execute_result"
    }
   ],
   "source": [
    "data_x = np.array(np.arange(5))\n",
    "data_x"
   ]
  },
  {
   "cell_type": "code",
   "execution_count": 3,
   "metadata": {},
   "outputs": [
    {
     "data": {
      "text/plain": [
       "array([5, 6, 7, 8, 9])"
      ]
     },
     "execution_count": 3,
     "metadata": {},
     "output_type": "execute_result"
    }
   ],
   "source": [
    "data_y = np.array(np.arange(5, 10))\n",
    "data_y"
   ]
  },
  {
   "cell_type": "code",
   "execution_count": 4,
   "metadata": {},
   "outputs": [],
   "source": [
    "cond = np.array([True, False, False, True, True])"
   ]
  },
  {
   "cell_type": "code",
   "execution_count": 5,
   "metadata": {},
   "outputs": [
    {
     "data": {
      "text/plain": [
       "[0, 6, 7, 3, 4]"
      ]
     },
     "execution_count": 5,
     "metadata": {},
     "output_type": "execute_result"
    }
   ],
   "source": [
    "result = [(x if c else y) for x, c, y in zip(data_x,  cond, data_y)]\n",
    "result"
   ]
  },
  {
   "cell_type": "code",
   "execution_count": 6,
   "metadata": {},
   "outputs": [
    {
     "data": {
      "text/plain": [
       "array([0, 6, 7, 3, 4])"
      ]
     },
     "execution_count": 6,
     "metadata": {},
     "output_type": "execute_result"
    }
   ],
   "source": [
    "result_where = np.where(cond, data_x, data_y)\n",
    "result_where"
   ]
  },
  {
   "cell_type": "code",
   "execution_count": 7,
   "metadata": {},
   "outputs": [
    {
     "data": {
      "text/plain": [
       "array([[-0.31636329,  1.11820539,  1.30082551,  0.14750354],\n",
       "       [ 0.2983498 , -1.09725841, -0.80070168, -0.68017896],\n",
       "       [-0.41249709, -1.21975816,  0.65703449, -0.28505311],\n",
       "       [-1.57571568, -0.65550633,  0.46237102, -0.13957305],\n",
       "       [ 0.04765394, -0.40854095,  0.85610291,  0.83008119],\n",
       "       [-0.3428456 , -0.71618246,  0.99196892, -1.04513739],\n",
       "       [ 0.22167714,  0.99019177, -1.13803267, -0.22374813],\n",
       "       [ 0.41551768,  0.54781642, -0.55926814,  0.45989446],\n",
       "       [ 0.66278615,  1.39661009,  0.07770117, -1.15579995],\n",
       "       [-1.38855253,  0.66447718, -0.24598968, -2.35613859]])"
      ]
     },
     "execution_count": 7,
     "metadata": {},
     "output_type": "execute_result"
    }
   ],
   "source": [
    "data_z = np.random.randn(10, 4)\n",
    "data_z"
   ]
  },
  {
   "cell_type": "code",
   "execution_count": 8,
   "metadata": {},
   "outputs": [
    {
     "data": {
      "text/plain": [
       "array([[-5,  5,  5,  5],\n",
       "       [ 5, -5, -5, -5],\n",
       "       [-5, -5,  5, -5],\n",
       "       [-5, -5,  5, -5],\n",
       "       [ 5, -5,  5,  5],\n",
       "       [-5, -5,  5, -5],\n",
       "       [ 5,  5, -5, -5],\n",
       "       [ 5,  5, -5,  5],\n",
       "       [ 5,  5,  5, -5],\n",
       "       [-5,  5, -5, -5]])"
      ]
     },
     "execution_count": 8,
     "metadata": {},
     "output_type": "execute_result"
    }
   ],
   "source": [
    "result_2 = np.where(data_z >0, 5, -5)\n",
    "result_2"
   ]
  },
  {
   "cell_type": "code",
   "execution_count": 9,
   "metadata": {},
   "outputs": [
    {
     "data": {
      "text/plain": [
       "array([[-0.31636329,  5.        ,  5.        ,  5.        ],\n",
       "       [ 5.        , -1.09725841, -0.80070168, -0.68017896],\n",
       "       [-0.41249709, -1.21975816,  5.        , -0.28505311],\n",
       "       [-1.57571568, -0.65550633,  5.        , -0.13957305],\n",
       "       [ 5.        , -0.40854095,  5.        ,  5.        ],\n",
       "       [-0.3428456 , -0.71618246,  5.        , -1.04513739],\n",
       "       [ 5.        ,  5.        , -1.13803267, -0.22374813],\n",
       "       [ 5.        ,  5.        , -0.55926814,  5.        ],\n",
       "       [ 5.        ,  5.        ,  5.        , -1.15579995],\n",
       "       [-1.38855253,  5.        , -0.24598968, -2.35613859]])"
      ]
     },
     "execution_count": 9,
     "metadata": {},
     "output_type": "execute_result"
    }
   ],
   "source": [
    "result_2 = np.where(data_z >0, 5, data_z)\n",
    "result_2"
   ]
  },
  {
   "cell_type": "code",
   "execution_count": null,
   "metadata": {},
   "outputs": [],
   "source": []
  }
 ],
 "metadata": {
  "kernelspec": {
   "display_name": "Python 3",
   "language": "python",
   "name": "python3"
  },
  "language_info": {
   "codemirror_mode": {
    "name": "ipython",
    "version": 3
   },
   "file_extension": ".py",
   "mimetype": "text/x-python",
   "name": "python",
   "nbconvert_exporter": "python",
   "pygments_lexer": "ipython3",
   "version": "3.8.5"
  }
 },
 "nbformat": 4,
 "nbformat_minor": 4
}
