{
 "cells": [
  {
   "cell_type": "markdown",
   "metadata": {},
   "source": [
    "# Sorting in NumPy"
   ]
  },
  {
   "cell_type": "code",
   "execution_count": 1,
   "metadata": {},
   "outputs": [],
   "source": [
    "import numpy as np"
   ]
  },
  {
   "cell_type": "code",
   "execution_count": 2,
   "metadata": {},
   "outputs": [
    {
     "data": {
      "text/plain": [
       "array([ 1.13580441,  0.51665936,  0.50280307,  0.64670954, -0.84257721,\n",
       "        0.59715008,  1.93250004,  0.13069962,  0.89857931,  0.25354294])"
      ]
     },
     "execution_count": 2,
     "metadata": {},
     "output_type": "execute_result"
    }
   ],
   "source": [
    "data = np.random.randn(10)\n",
    "data"
   ]
  },
  {
   "cell_type": "code",
   "execution_count": 3,
   "metadata": {},
   "outputs": [],
   "source": [
    "data.sort()"
   ]
  },
  {
   "cell_type": "code",
   "execution_count": 4,
   "metadata": {},
   "outputs": [
    {
     "data": {
      "text/plain": [
       "array([-0.84257721,  0.13069962,  0.25354294,  0.50280307,  0.51665936,\n",
       "        0.59715008,  0.64670954,  0.89857931,  1.13580441,  1.93250004])"
      ]
     },
     "execution_count": 4,
     "metadata": {},
     "output_type": "execute_result"
    }
   ],
   "source": [
    "data"
   ]
  },
  {
   "cell_type": "code",
   "execution_count": 5,
   "metadata": {},
   "outputs": [
    {
     "data": {
      "text/plain": [
       "array([ 1.33351209, -0.45611696, -2.20623734,  0.89385237,  0.2571922 ,\n",
       "       -1.75678037, -1.3259173 , -1.30123928,  0.25245954, -0.39496957])"
      ]
     },
     "execution_count": 5,
     "metadata": {},
     "output_type": "execute_result"
    }
   ],
   "source": [
    "data2= np.random.randn(10)\n",
    "data2"
   ]
  },
  {
   "cell_type": "code",
   "execution_count": 6,
   "metadata": {},
   "outputs": [
    {
     "data": {
      "text/plain": [
       "array([-2.20623734, -1.75678037, -1.3259173 , -1.30123928, -0.45611696,\n",
       "       -0.39496957,  0.25245954,  0.2571922 ,  0.89385237,  1.33351209])"
      ]
     },
     "execution_count": 6,
     "metadata": {},
     "output_type": "execute_result"
    }
   ],
   "source": [
    "np.sort(data2)"
   ]
  },
  {
   "cell_type": "code",
   "execution_count": 7,
   "metadata": {},
   "outputs": [
    {
     "data": {
      "text/plain": [
       "array([[ 1.688686  ,  1.09566081,  0.79616162],\n",
       "       [ 0.16228502, -0.78090146,  1.36210778],\n",
       "       [ 0.35207636,  0.41044506, -1.25627113],\n",
       "       [-1.44876521,  1.28174944, -0.269161  ],\n",
       "       [-0.01832029, -0.57427452, -0.06493418],\n",
       "       [-0.82723478,  0.46245609,  0.45611131]])"
      ]
     },
     "execution_count": 7,
     "metadata": {},
     "output_type": "execute_result"
    }
   ],
   "source": [
    "matrix_data = np.random.randn(6, 3)\n",
    "matrix_data"
   ]
  },
  {
   "cell_type": "code",
   "execution_count": 8,
   "metadata": {},
   "outputs": [],
   "source": [
    "matrix_data.sort(axis=-1)"
   ]
  },
  {
   "cell_type": "code",
   "execution_count": 9,
   "metadata": {},
   "outputs": [
    {
     "data": {
      "text/plain": [
       "array([[ 0.79616162,  1.09566081,  1.688686  ],\n",
       "       [-0.78090146,  0.16228502,  1.36210778],\n",
       "       [-1.25627113,  0.35207636,  0.41044506],\n",
       "       [-1.44876521, -0.269161  ,  1.28174944],\n",
       "       [-0.57427452, -0.06493418, -0.01832029],\n",
       "       [-0.82723478,  0.45611131,  0.46245609]])"
      ]
     },
     "execution_count": 9,
     "metadata": {},
     "output_type": "execute_result"
    }
   ],
   "source": [
    "matrix_data"
   ]
  },
  {
   "cell_type": "code",
   "execution_count": 10,
   "metadata": {},
   "outputs": [],
   "source": [
    "matrix_data.sort(axis=0)"
   ]
  },
  {
   "cell_type": "code",
   "execution_count": 11,
   "metadata": {},
   "outputs": [
    {
     "data": {
      "text/plain": [
       "array([[-1.44876521, -0.269161  , -0.01832029],\n",
       "       [-1.25627113, -0.06493418,  0.41044506],\n",
       "       [-0.82723478,  0.16228502,  0.46245609],\n",
       "       [-0.78090146,  0.35207636,  1.28174944],\n",
       "       [-0.57427452,  0.45611131,  1.36210778],\n",
       "       [ 0.79616162,  1.09566081,  1.688686  ]])"
      ]
     },
     "execution_count": 11,
     "metadata": {},
     "output_type": "execute_result"
    }
   ],
   "source": [
    "matrix_data"
   ]
  },
  {
   "cell_type": "code",
   "execution_count": null,
   "metadata": {},
   "outputs": [],
   "source": []
  }
 ],
 "metadata": {
  "kernelspec": {
   "display_name": "Python 3",
   "language": "python",
   "name": "python3"
  },
  "language_info": {
   "codemirror_mode": {
    "name": "ipython",
    "version": 3
   },
   "file_extension": ".py",
   "mimetype": "text/x-python",
   "name": "python",
   "nbconvert_exporter": "python",
   "pygments_lexer": "ipython3",
   "version": "3.8.3"
  }
 },
 "nbformat": 4,
 "nbformat_minor": 4
}
