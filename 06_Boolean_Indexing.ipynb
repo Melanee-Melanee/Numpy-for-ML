{
 "cells": [
  {
   "cell_type": "markdown",
   "metadata": {},
   "source": [
    "# Boolean Indexing"
   ]
  },
  {
   "cell_type": "code",
   "execution_count": 1,
   "metadata": {},
   "outputs": [],
   "source": [
    "import numpy as np"
   ]
  },
  {
   "cell_type": "code",
   "execution_count": 2,
   "metadata": {},
   "outputs": [
    {
     "data": {
      "text/plain": [
       "array(['Sun', 'Mon', 'Tue', 'Wed', 'Thu', 'Fri', 'Sat', 'Sun', 'Thu',\n",
       "       'Thu'], dtype='<U3')"
      ]
     },
     "execution_count": 2,
     "metadata": {},
     "output_type": "execute_result"
    }
   ],
   "source": [
    "days = np.array(['Sun', 'Mon', 'Tue', 'Wed', 'Thu', 'Fri', 'Sat', 'Sun', 'Thu', 'Thu'])\n",
    "days"
   ]
  },
  {
   "cell_type": "code",
   "execution_count": 3,
   "metadata": {},
   "outputs": [
    {
     "data": {
      "text/plain": [
       "array([[ 0.48806782, -2.45046071, -0.51818333, -1.45871172],\n",
       "       [-0.0613477 ,  0.8308607 ,  0.09922152,  0.98912745],\n",
       "       [ 0.53477836, -0.93688299, -2.09243621,  0.52828142],\n",
       "       [-1.04345958, -1.0481358 ,  1.2696092 , -0.10741584],\n",
       "       [-0.68026828,  0.98088998,  0.85177922, -1.27499814],\n",
       "       [-1.21808615,  0.33724649, -0.36068433, -0.29507253],\n",
       "       [ 0.04457884, -0.89596789, -0.25695732, -1.30245996],\n",
       "       [-1.11380715,  0.20001238,  1.16422775, -0.34262239],\n",
       "       [-0.67132395, -0.80409242, -1.05868473, -0.11754513],\n",
       "       [ 0.04055683, -0.75262135, -0.12225205, -1.62781047]])"
      ]
     },
     "execution_count": 3,
     "metadata": {},
     "output_type": "execute_result"
    }
   ],
   "source": [
    "data = np.random.randn(10, 4)\n",
    "data"
   ]
  },
  {
   "cell_type": "code",
   "execution_count": 4,
   "metadata": {},
   "outputs": [
    {
     "data": {
      "text/plain": [
       "array([ True, False, False, False, False, False, False,  True, False,\n",
       "       False])"
      ]
     },
     "execution_count": 4,
     "metadata": {},
     "output_type": "execute_result"
    }
   ],
   "source": [
    "days == 'Sun'"
   ]
  },
  {
   "cell_type": "code",
   "execution_count": 5,
   "metadata": {},
   "outputs": [
    {
     "data": {
      "text/plain": [
       "array([[ 0.48806782, -2.45046071, -0.51818333, -1.45871172],\n",
       "       [-1.11380715,  0.20001238,  1.16422775, -0.34262239]])"
      ]
     },
     "execution_count": 5,
     "metadata": {},
     "output_type": "execute_result"
    }
   ],
   "source": [
    "data[days=='Sun']"
   ]
  },
  {
   "cell_type": "code",
   "execution_count": 6,
   "metadata": {},
   "outputs": [
    {
     "data": {
      "text/plain": [
       "array([[-2.45046071, -0.51818333, -1.45871172],\n",
       "       [ 0.20001238,  1.16422775, -0.34262239]])"
      ]
     },
     "execution_count": 6,
     "metadata": {},
     "output_type": "execute_result"
    }
   ],
   "source": [
    "data[days=='Sun', 1:]"
   ]
  },
  {
   "cell_type": "code",
   "execution_count": 7,
   "metadata": {},
   "outputs": [
    {
     "data": {
      "text/plain": [
       "array([-2.45046071,  0.20001238])"
      ]
     },
     "execution_count": 7,
     "metadata": {},
     "output_type": "execute_result"
    }
   ],
   "source": [
    "data[days=='Sun', 1]"
   ]
  },
  {
   "cell_type": "code",
   "execution_count": 8,
   "metadata": {},
   "outputs": [
    {
     "data": {
      "text/plain": [
       "array([False,  True,  True,  True,  True,  True,  True, False,  True,\n",
       "        True])"
      ]
     },
     "execution_count": 8,
     "metadata": {},
     "output_type": "execute_result"
    }
   ],
   "source": [
    "days != 'Sun'"
   ]
  },
  {
   "cell_type": "code",
   "execution_count": 9,
   "metadata": {},
   "outputs": [
    {
     "data": {
      "text/plain": [
       "array([False,  True,  True,  True,  True,  True,  True, False,  True,\n",
       "        True])"
      ]
     },
     "execution_count": 9,
     "metadata": {},
     "output_type": "execute_result"
    }
   ],
   "source": [
    "~(days == 'Sun')                        # this symbol is used to negate the condition. "
   ]
  },
  {
   "cell_type": "code",
   "execution_count": 10,
   "metadata": {},
   "outputs": [
    {
     "data": {
      "text/plain": [
       "array([[-0.0613477 ,  0.8308607 ,  0.09922152,  0.98912745],\n",
       "       [ 0.53477836, -0.93688299, -2.09243621,  0.52828142],\n",
       "       [-1.04345958, -1.0481358 ,  1.2696092 , -0.10741584],\n",
       "       [-0.68026828,  0.98088998,  0.85177922, -1.27499814],\n",
       "       [-1.21808615,  0.33724649, -0.36068433, -0.29507253],\n",
       "       [ 0.04457884, -0.89596789, -0.25695732, -1.30245996],\n",
       "       [-0.67132395, -0.80409242, -1.05868473, -0.11754513],\n",
       "       [ 0.04055683, -0.75262135, -0.12225205, -1.62781047]])"
      ]
     },
     "execution_count": 10,
     "metadata": {},
     "output_type": "execute_result"
    }
   ],
   "source": [
    "data[~(days=='Sun')]"
   ]
  },
  {
   "cell_type": "code",
   "execution_count": 11,
   "metadata": {},
   "outputs": [
    {
     "data": {
      "text/plain": [
       "array([ True, False, False, False, False, False, False,  True, False,\n",
       "       False])"
      ]
     },
     "execution_count": 11,
     "metadata": {},
     "output_type": "execute_result"
    }
   ],
   "source": [
    "cond = (days=='Sun')\n",
    "cond"
   ]
  },
  {
   "cell_type": "code",
   "execution_count": 12,
   "metadata": {},
   "outputs": [
    {
     "data": {
      "text/plain": [
       "array([[-0.0613477 ,  0.8308607 ,  0.09922152,  0.98912745],\n",
       "       [ 0.53477836, -0.93688299, -2.09243621,  0.52828142],\n",
       "       [-1.04345958, -1.0481358 ,  1.2696092 , -0.10741584],\n",
       "       [-0.68026828,  0.98088998,  0.85177922, -1.27499814],\n",
       "       [-1.21808615,  0.33724649, -0.36068433, -0.29507253],\n",
       "       [ 0.04457884, -0.89596789, -0.25695732, -1.30245996],\n",
       "       [-0.67132395, -0.80409242, -1.05868473, -0.11754513],\n",
       "       [ 0.04055683, -0.75262135, -0.12225205, -1.62781047]])"
      ]
     },
     "execution_count": 12,
     "metadata": {},
     "output_type": "execute_result"
    }
   ],
   "source": [
    "data[~cond]"
   ]
  },
  {
   "cell_type": "code",
   "execution_count": 13,
   "metadata": {},
   "outputs": [
    {
     "data": {
      "text/plain": [
       "array([ True, False, False, False,  True, False, False,  True,  True,\n",
       "        True])"
      ]
     },
     "execution_count": 13,
     "metadata": {},
     "output_type": "execute_result"
    }
   ],
   "source": [
    "multi_cond = (days=='Sun') | (days == 'Thu')\n",
    "multi_cond"
   ]
  },
  {
   "cell_type": "code",
   "execution_count": 14,
   "metadata": {},
   "outputs": [
    {
     "data": {
      "text/plain": [
       "array([[ 0.48806782, -2.45046071, -0.51818333, -1.45871172],\n",
       "       [-0.68026828,  0.98088998,  0.85177922, -1.27499814],\n",
       "       [-1.11380715,  0.20001238,  1.16422775, -0.34262239],\n",
       "       [-0.67132395, -0.80409242, -1.05868473, -0.11754513],\n",
       "       [ 0.04055683, -0.75262135, -0.12225205, -1.62781047]])"
      ]
     },
     "execution_count": 14,
     "metadata": {},
     "output_type": "execute_result"
    }
   ],
   "source": [
    "data[multi_cond]"
   ]
  },
  {
   "cell_type": "code",
   "execution_count": 15,
   "metadata": {},
   "outputs": [
    {
     "data": {
      "text/plain": [
       "array([[0.48806782, 0.        , 0.        , 0.        ],\n",
       "       [0.        , 0.8308607 , 0.09922152, 0.98912745],\n",
       "       [0.53477836, 0.        , 0.        , 0.52828142],\n",
       "       [0.        , 0.        , 1.2696092 , 0.        ],\n",
       "       [0.        , 0.98088998, 0.85177922, 0.        ],\n",
       "       [0.        , 0.33724649, 0.        , 0.        ],\n",
       "       [0.04457884, 0.        , 0.        , 0.        ],\n",
       "       [0.        , 0.20001238, 1.16422775, 0.        ],\n",
       "       [0.        , 0.        , 0.        , 0.        ],\n",
       "       [0.04055683, 0.        , 0.        , 0.        ]])"
      ]
     },
     "execution_count": 15,
     "metadata": {},
     "output_type": "execute_result"
    }
   ],
   "source": [
    "data[data < 0] = 0                     # data and filter the data where the array elements are < 0 and assign 0 for them. \n",
    "data"
   ]
  },
  {
   "cell_type": "code",
   "execution_count": 16,
   "metadata": {},
   "outputs": [
    {
     "data": {
      "text/plain": [
       "array([[0.48806782, 0.        , 0.        , 0.        ],\n",
       "       [0.5       , 0.5       , 0.5       , 0.5       ],\n",
       "       [0.5       , 0.5       , 0.5       , 0.5       ],\n",
       "       [0.5       , 0.5       , 0.5       , 0.5       ],\n",
       "       [0.5       , 0.5       , 0.5       , 0.5       ],\n",
       "       [0.5       , 0.5       , 0.5       , 0.5       ],\n",
       "       [0.5       , 0.5       , 0.5       , 0.5       ],\n",
       "       [0.        , 0.20001238, 1.16422775, 0.        ],\n",
       "       [0.5       , 0.5       , 0.5       , 0.5       ],\n",
       "       [0.5       , 0.5       , 0.5       , 0.5       ]])"
      ]
     },
     "execution_count": 16,
     "metadata": {},
     "output_type": "execute_result"
    }
   ],
   "source": [
    "data[days != 'Sun'] = 0.5\n",
    "data"
   ]
  },
  {
   "cell_type": "code",
   "execution_count": null,
   "metadata": {},
   "outputs": [],
   "source": []
  }
 ],
 "metadata": {
  "kernelspec": {
   "display_name": "Python 3",
   "language": "python",
   "name": "python3"
  },
  "language_info": {
   "codemirror_mode": {
    "name": "ipython",
    "version": 3
   },
   "file_extension": ".py",
   "mimetype": "text/x-python",
   "name": "python",
   "nbconvert_exporter": "python",
   "pygments_lexer": "ipython3",
   "version": "3.8.5"
  }
 },
 "nbformat": 4,
 "nbformat_minor": 4
}
